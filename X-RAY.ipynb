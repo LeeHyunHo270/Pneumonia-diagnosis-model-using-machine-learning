{
 "cells": [
  {
   "cell_type": "code",
   "execution_count": 1,
   "id": "54537a15",
   "metadata": {},
   "outputs": [],
   "source": [
    "import os\n",
    "import cv2\n",
    "import time\n",
    "import pandas as pd\n",
    "import numpy as np\n",
    "import tensorflow as tf\n",
    "from tensorflow import keras\n",
    "from tensorflow.keras.models import load_model\n",
    "from sklearn.utils import shuffle\n",
    "from sklearn.model_selection import train_test_split\n",
    "from keras.callbacks import EarlyStopping"
   ]
  },
  {
   "cell_type": "code",
   "execution_count": 2,
   "id": "895bfaaf",
   "metadata": {},
   "outputs": [],
   "source": [
    "os.environ[\"CUDA_VISIBLE_DEVICES\"]=\"0\"\n",
    "gpus = tf.config.experimental.list_physical_devices('GPU')\n",
    "if gpus:\n",
    "    try:\n",
    "        tf.config.experimental.set_memory_growth(gpus[0], True)\n",
    "    except RuntimeError as e:\n",
    "        print(e)"
   ]
  },
  {
   "cell_type": "code",
   "execution_count": 3,
   "id": "63690d09",
   "metadata": {},
   "outputs": [],
   "source": [
    "path= \"C:/Users/LHH/Desktop/++71515\"\n",
    "train_file_0= os.listdir(path+ \"/train/NORMAL\")\n",
    "train_file_1= os.listdir(path+ \"/train/PNEUMONIA\")\n",
    "test_file_0= os.listdir(path+ \"/test/NORMAL\")\n",
    "test_file_1= os.listdir(path+ \"/test/PNEUMONIA\")"
   ]
  },
  {
   "cell_type": "code",
   "execution_count": 4,
   "id": "f004031c",
   "metadata": {},
   "outputs": [],
   "source": [
    "X_full= 0\n",
    "check= False\n",
    "\n",
    "for file in train_file_0:\n",
    "    img_in= cv2.imread(path+ \"/train/NORMAL/\"+ file, cv2.IMREAD_GRAYSCALE)\n",
    "    img_res= cv2.resize(img_in, dsize= (100, 100), interpolation= cv2.INTER_LINEAR)\n",
    "    img_round= img_res/255\n",
    "    img_resh= img_round.reshape((100, 100, 1))\n",
    "    img= img_resh.reshape((1, )+ img_resh.shape)\n",
    "    \n",
    "    if(check== False):\n",
    "        X_full= img\n",
    "        check= True\n",
    "    else:\n",
    "        X_full= np.vstack((X_full, img))\n",
    "\n",
    "for file in train_file_1:\n",
    "    img_in= cv2.imread(path+ \"/train/PNEUMONIA/\"+ file, cv2.IMREAD_GRAYSCALE)\n",
    "    img_res= cv2.resize(img_in, dsize= (100, 100), interpolation= cv2.INTER_LINEAR)\n",
    "    img_round= img_res/255\n",
    "    img_resh= img_round.reshape((100, 100, 1))\n",
    "    img= img_resh.reshape((1, )+ img_resh.shape)\n",
    "    X_full= np.vstack((X_full, img))\n"
   ]
  },
  {
   "cell_type": "code",
   "execution_count": 5,
   "id": "b777aef2",
   "metadata": {},
   "outputs": [],
   "source": [
    "y_full= np.array([0]* len(train_file_0))\n",
    "y_full_1= np.array([1]* len(train_file_1))\n",
    "y_full= np.append(y_full, y_full_1)\n"
   ]
  },
  {
   "cell_type": "code",
   "execution_count": 6,
   "id": "7b6021f0",
   "metadata": {},
   "outputs": [],
   "source": [
    "X_test, y_train= shuffle(X_full, y_full, random_state= 42)"
   ]
  },
  {
   "cell_type": "code",
   "execution_count": 7,
   "id": "0196f5d7",
   "metadata": {},
   "outputs": [],
   "source": [
    "X_train, X_val, y_train, y_val= train_test_split(X_full, y_full, test_size= 0.12)"
   ]
  },
  {
   "cell_type": "code",
   "execution_count": 8,
   "id": "a6a698b4",
   "metadata": {},
   "outputs": [],
   "source": [
    "np.save(\"./dataset/X_train\", X_train)\n",
    "np.save(\"./dataset/y_train\", y_train)\n",
    "np.save(\"./dataset/X_val\", X_val)\n",
    "np.save(\"./dataset/y_val\", y_val)"
   ]
  },
  {
   "cell_type": "code",
   "execution_count": 9,
   "id": "8bbf28c4",
   "metadata": {},
   "outputs": [],
   "source": [
    "X_test= 0\n",
    "check= False\n",
    "\n",
    "for file in test_file_0:\n",
    "    img_in= cv2.imread(path+ \"/test/NORMAL/\"+ file, cv2.IMREAD_GRAYSCALE)\n",
    "    img_res= cv2.resize(img_in, dsize= (100, 100), interpolation= cv2.INTER_LINEAR)\n",
    "    img_round= img_res/255\n",
    "    img_resh= img_round.reshape((100, 100, 1))\n",
    "    img= img_resh.reshape((1, )+ img_resh.shape)\n",
    "    \n",
    "    if(check== False):\n",
    "        X_test= img\n",
    "        check= True\n",
    "    else:\n",
    "        X_test= np.vstack((X_test, img))\n",
    "\n",
    "for file in test_file_1:\n",
    "    img_in= cv2.imread(path+ \"/test/PNEUMONIA/\"+ file, cv2.IMREAD_GRAYSCALE)\n",
    "    img_res= cv2.resize(img_in, dsize= (100, 100), interpolation= cv2.INTER_LINEAR)\n",
    "    img_round= img_res/255\n",
    "    img_resh= img_round.reshape((100, 100, 1))\n",
    "    img= img_resh.reshape((1, )+ img_resh.shape)\n",
    "    X_test= np.vstack((X_test, img))\n"
   ]
  },
  {
   "cell_type": "code",
   "execution_count": 10,
   "id": "245a6382",
   "metadata": {},
   "outputs": [],
   "source": [
    "y_test= np.array([0]* len(test_file_0))\n",
    "y_test_1= np.array([1]* len(test_file_1))\n",
    "y_test= np.append(y_test, y_test_1)"
   ]
  },
  {
   "cell_type": "code",
   "execution_count": 11,
   "id": "8a059463",
   "metadata": {},
   "outputs": [],
   "source": [
    "X_test, y_test= shuffle(X_test, y_test, random_state= 42)"
   ]
  },
  {
   "cell_type": "code",
   "execution_count": 12,
   "id": "17776ab1",
   "metadata": {},
   "outputs": [],
   "source": [
    "np.save(\"./dataset/X_test\", X_test)\n",
    "np.save(\"./dataset/y_test\", y_test)"
   ]
  },
  {
   "cell_type": "code",
   "execution_count": 13,
   "id": "a70aee4f",
   "metadata": {},
   "outputs": [],
   "source": [
    "X_train= np.load(\"./dataset/X_train.npy\")\n",
    "y_train= np.load(\"./dataset/y_train.npy\")\n",
    "X_val= np.load(\"./dataset/X_val.npy\")\n",
    "y_val= np.load(\"./dataset/y_val.npy\")\n",
    "X_test= np.load(\"./dataset/X_test.npy\")\n",
    "y_test= np.load(\"./dataset/y_test.npy\")"
   ]
  },
  {
   "cell_type": "code",
   "execution_count": 14,
   "id": "9258bbd3",
   "metadata": {},
   "outputs": [
    {
     "name": "stdout",
     "output_type": "stream",
     "text": [
      "(10821, 100, 100, 1)\n",
      "(10821,)\n",
      "(1476, 100, 100, 1)\n",
      "(1476,)\n",
      "(2637, 100, 100, 1)\n",
      "(2637,)\n"
     ]
    }
   ],
   "source": [
    "print(X_train.shape)\n",
    "print(y_train.shape)\n",
    "print(X_val.shape)\n",
    "print(y_val.shape)\n",
    "print(X_test.shape)\n",
    "print(y_test.shape)\n"
   ]
  },
  {
   "cell_type": "code",
   "execution_count": 15,
   "id": "2cbde449",
   "metadata": {},
   "outputs": [],
   "source": [
    "model= keras.models.Sequential()"
   ]
  },
  {
   "cell_type": "code",
   "execution_count": 16,
   "id": "b8c39ab6",
   "metadata": {},
   "outputs": [],
   "source": [
    "model.add(keras.layers.Conv2D(64, 10, activation= \"relu\", padding= \"same\", input_shape= [100, 100, 1]))\n",
    "model.add(keras.layers.MaxPooling2D(2))\n",
    "model.add(keras.layers.Conv2D(128, 4, activation= \"relu\", padding= \"same\"))\n",
    "\n",
    "\n",
    "model.add(keras.layers.Flatten())\n",
    "\n",
    "model.add(keras.layers.Dense(64, activation= \"relu\"))\n",
    "model.add(keras.layers.Dropout(0.5))\n",
    "model.add(keras.layers.Dense(32, activation= \"relu\"))\n",
    "model.add(keras.layers.Dropout(0.5))\n",
    "model.add(keras.layers.Dense(2, activation= \"softmax\"))\n",
    "\n"
   ]
  },
  {
   "cell_type": "code",
   "execution_count": 17,
   "id": "40143a4d",
   "metadata": {},
   "outputs": [],
   "source": [
    "model.compile(loss= \"sparse_categorical_crossentropy\", optimizer= \"adam\", metrics= [\"accuracy\"])"
   ]
  },
  {
   "cell_type": "code",
   "execution_count": 18,
   "id": "c78968c5",
   "metadata": {},
   "outputs": [
    {
     "name": "stdout",
     "output_type": "stream",
     "text": [
      "Model: \"sequential\"\n",
      "_________________________________________________________________\n",
      " Layer (type)                Output Shape              Param #   \n",
      "=================================================================\n",
      " conv2d (Conv2D)             (None, 100, 100, 64)      6464      \n",
      "                                                                 \n",
      " max_pooling2d (MaxPooling2D  (None, 50, 50, 64)       0         \n",
      " )                                                               \n",
      "                                                                 \n",
      " conv2d_1 (Conv2D)           (None, 50, 50, 128)       131200    \n",
      "                                                                 \n",
      " flatten (Flatten)           (None, 320000)            0         \n",
      "                                                                 \n",
      " dense (Dense)               (None, 64)                20480064  \n",
      "                                                                 \n",
      " dropout (Dropout)           (None, 64)                0         \n",
      "                                                                 \n",
      " dense_1 (Dense)             (None, 32)                2080      \n",
      "                                                                 \n",
      " dropout_1 (Dropout)         (None, 32)                0         \n",
      "                                                                 \n",
      " dense_2 (Dense)             (None, 2)                 66        \n",
      "                                                                 \n",
      "=================================================================\n",
      "Total params: 20,619,874\n",
      "Trainable params: 20,619,874\n",
      "Non-trainable params: 0\n",
      "_________________________________________________________________\n"
     ]
    }
   ],
   "source": [
    "model.summary()"
   ]
  },
  {
   "cell_type": "code",
   "execution_count": 19,
   "id": "5da7cc2a",
   "metadata": {},
   "outputs": [],
   "source": [
    "weight_for_0 = 1.94\n",
    "weight_for_1 = 0.67\n",
    "\n",
    "class_weight = {0: weight_for_0, 1: weight_for_1}"
   ]
  },
  {
   "cell_type": "code",
   "execution_count": 20,
   "id": "dc5b8133",
   "metadata": {
    "scrolled": true
   },
   "outputs": [
    {
     "name": "stdout",
     "output_type": "stream",
     "text": [
      "Epoch 1/80\n",
      "339/339 [==============================] - 12s 28ms/step - loss: 0.4806 - accuracy: 0.7552 - val_loss: 0.3025 - val_accuracy: 0.8645\n",
      "Epoch 2/80\n",
      "339/339 [==============================] - 9s 27ms/step - loss: 0.3592 - accuracy: 0.8765 - val_loss: 0.1920 - val_accuracy: 0.9336\n",
      "Epoch 3/80\n",
      "339/339 [==============================] - 9s 27ms/step - loss: 0.2923 - accuracy: 0.8984 - val_loss: 0.2112 - val_accuracy: 0.9207\n",
      "Epoch 4/80\n",
      "339/339 [==============================] - 9s 27ms/step - loss: 0.2726 - accuracy: 0.9082 - val_loss: 0.1840 - val_accuracy: 0.9343\n",
      "Epoch 5/80\n",
      "339/339 [==============================] - 9s 27ms/step - loss: 0.2618 - accuracy: 0.9095 - val_loss: 0.2054 - val_accuracy: 0.9207\n",
      "Epoch 6/80\n",
      "339/339 [==============================] - 9s 27ms/step - loss: 0.2396 - accuracy: 0.9169 - val_loss: 0.1412 - val_accuracy: 0.9411\n",
      "Epoch 7/80\n",
      "339/339 [==============================] - 9s 27ms/step - loss: 0.2318 - accuracy: 0.9209 - val_loss: 0.1437 - val_accuracy: 0.9472\n",
      "Epoch 8/80\n",
      "339/339 [==============================] - 9s 27ms/step - loss: 0.2236 - accuracy: 0.9240 - val_loss: 0.1392 - val_accuracy: 0.9458\n",
      "Epoch 9/80\n",
      "339/339 [==============================] - 9s 27ms/step - loss: 0.1981 - accuracy: 0.9261 - val_loss: 0.1635 - val_accuracy: 0.9411\n",
      "Epoch 10/80\n",
      "339/339 [==============================] - 9s 27ms/step - loss: 0.1828 - accuracy: 0.9373 - val_loss: 0.1498 - val_accuracy: 0.9424\n",
      "Epoch 11/80\n",
      "339/339 [==============================] - 9s 27ms/step - loss: 0.1886 - accuracy: 0.9376 - val_loss: 0.1486 - val_accuracy: 0.9424\n",
      "Epoch 12/80\n",
      "339/339 [==============================] - 9s 27ms/step - loss: 0.1804 - accuracy: 0.9408 - val_loss: 0.1190 - val_accuracy: 0.9573\n",
      "Epoch 13/80\n",
      "339/339 [==============================] - 9s 27ms/step - loss: 0.1608 - accuracy: 0.9456 - val_loss: 0.1192 - val_accuracy: 0.9512\n",
      "Epoch 14/80\n",
      "339/339 [==============================] - 9s 27ms/step - loss: 0.1710 - accuracy: 0.9444 - val_loss: 0.1156 - val_accuracy: 0.9560\n",
      "Epoch 15/80\n",
      "339/339 [==============================] - 9s 27ms/step - loss: 0.1313 - accuracy: 0.9556 - val_loss: 0.0978 - val_accuracy: 0.9682\n",
      "Epoch 16/80\n",
      "339/339 [==============================] - 9s 27ms/step - loss: 0.1461 - accuracy: 0.9538 - val_loss: 0.1282 - val_accuracy: 0.9607\n",
      "Epoch 17/80\n",
      "339/339 [==============================] - 9s 27ms/step - loss: 0.1411 - accuracy: 0.9506 - val_loss: 0.0958 - val_accuracy: 0.9682\n",
      "Epoch 18/80\n",
      "339/339 [==============================] - 9s 27ms/step - loss: 0.1359 - accuracy: 0.9555 - val_loss: 0.0938 - val_accuracy: 0.9688\n",
      "Epoch 19/80\n",
      "339/339 [==============================] - 9s 27ms/step - loss: 0.1212 - accuracy: 0.9596 - val_loss: 0.0896 - val_accuracy: 0.9729\n",
      "Epoch 20/80\n",
      "339/339 [==============================] - 9s 27ms/step - loss: 0.1021 - accuracy: 0.9668 - val_loss: 0.0668 - val_accuracy: 0.9770\n",
      "Epoch 21/80\n",
      "339/339 [==============================] - 9s 27ms/step - loss: 0.1017 - accuracy: 0.9656 - val_loss: 0.0778 - val_accuracy: 0.9675\n",
      "Epoch 22/80\n",
      "339/339 [==============================] - 9s 27ms/step - loss: 0.1007 - accuracy: 0.9660 - val_loss: 0.0665 - val_accuracy: 0.9783\n",
      "Epoch 23/80\n",
      "339/339 [==============================] - 9s 27ms/step - loss: 0.0945 - accuracy: 0.9691 - val_loss: 0.0621 - val_accuracy: 0.9824\n",
      "Epoch 24/80\n",
      "339/339 [==============================] - 9s 27ms/step - loss: 0.0934 - accuracy: 0.9686 - val_loss: 0.0877 - val_accuracy: 0.9736\n",
      "Epoch 25/80\n",
      "339/339 [==============================] - 9s 27ms/step - loss: 0.0806 - accuracy: 0.9726 - val_loss: 0.0791 - val_accuracy: 0.9756\n",
      "Epoch 26/80\n",
      "339/339 [==============================] - 9s 27ms/step - loss: 0.0857 - accuracy: 0.9713 - val_loss: 0.0797 - val_accuracy: 0.9776\n",
      "Epoch 27/80\n",
      "339/339 [==============================] - 9s 27ms/step - loss: 0.0881 - accuracy: 0.9704 - val_loss: 0.0728 - val_accuracy: 0.9743\n",
      "Epoch 28/80\n",
      "339/339 [==============================] - 9s 27ms/step - loss: 0.0829 - accuracy: 0.9719 - val_loss: 0.0910 - val_accuracy: 0.9736\n",
      "Epoch 29/80\n",
      "339/339 [==============================] - 9s 27ms/step - loss: 0.0790 - accuracy: 0.9750 - val_loss: 0.0781 - val_accuracy: 0.9790\n",
      "Epoch 30/80\n",
      "339/339 [==============================] - 9s 27ms/step - loss: 0.0781 - accuracy: 0.9745 - val_loss: 0.0593 - val_accuracy: 0.9810\n",
      "Epoch 31/80\n",
      "339/339 [==============================] - 9s 27ms/step - loss: 0.0688 - accuracy: 0.9775 - val_loss: 0.0597 - val_accuracy: 0.9824\n",
      "Epoch 32/80\n",
      "339/339 [==============================] - 9s 27ms/step - loss: 0.0791 - accuracy: 0.9709 - val_loss: 0.0892 - val_accuracy: 0.9804\n",
      "Epoch 33/80\n",
      "339/339 [==============================] - 9s 27ms/step - loss: 0.0714 - accuracy: 0.9758 - val_loss: 0.0680 - val_accuracy: 0.9851\n",
      "Epoch 34/80\n",
      "339/339 [==============================] - 9s 27ms/step - loss: 0.0708 - accuracy: 0.9766 - val_loss: 0.0674 - val_accuracy: 0.9810\n",
      "Epoch 35/80\n",
      "339/339 [==============================] - 9s 27ms/step - loss: 0.0606 - accuracy: 0.9794 - val_loss: 0.0643 - val_accuracy: 0.9844\n",
      "Epoch 36/80\n",
      "339/339 [==============================] - 9s 27ms/step - loss: 0.0705 - accuracy: 0.9768 - val_loss: 0.1176 - val_accuracy: 0.9654\n",
      "Epoch 37/80\n",
      "339/339 [==============================] - 9s 27ms/step - loss: 0.0730 - accuracy: 0.9718 - val_loss: 0.0772 - val_accuracy: 0.9790\n",
      "Epoch 38/80\n",
      "339/339 [==============================] - 9s 27ms/step - loss: 0.0528 - accuracy: 0.9786 - val_loss: 0.0664 - val_accuracy: 0.9783\n",
      "Epoch 39/80\n",
      "339/339 [==============================] - 9s 27ms/step - loss: 0.0826 - accuracy: 0.9644 - val_loss: 0.0935 - val_accuracy: 0.9804\n",
      "Epoch 40/80\n",
      "339/339 [==============================] - 9s 27ms/step - loss: 0.0660 - accuracy: 0.9709 - val_loss: 0.0735 - val_accuracy: 0.9851\n",
      "Epoch 41/80\n",
      "339/339 [==============================] - 9s 27ms/step - loss: 0.0556 - accuracy: 0.9786 - val_loss: 0.0819 - val_accuracy: 0.9770\n",
      "Epoch 42/80\n",
      "339/339 [==============================] - 9s 27ms/step - loss: 0.0474 - accuracy: 0.9763 - val_loss: 0.0603 - val_accuracy: 0.9878\n",
      "Epoch 43/80\n",
      "339/339 [==============================] - 9s 27ms/step - loss: 0.0530 - accuracy: 0.9777 - val_loss: 0.0599 - val_accuracy: 0.9831\n",
      "Epoch 44/80\n",
      "339/339 [==============================] - 9s 27ms/step - loss: 0.0456 - accuracy: 0.9823 - val_loss: 0.0637 - val_accuracy: 0.9885\n",
      "Epoch 45/80\n",
      "339/339 [==============================] - 9s 27ms/step - loss: 0.0430 - accuracy: 0.9786 - val_loss: 0.0522 - val_accuracy: 0.9858\n",
      "Epoch 46/80\n",
      "339/339 [==============================] - 9s 27ms/step - loss: 0.0537 - accuracy: 0.9755 - val_loss: 0.1248 - val_accuracy: 0.9756\n",
      "Epoch 47/80\n",
      "339/339 [==============================] - 9s 27ms/step - loss: 0.0503 - accuracy: 0.9799 - val_loss: 0.0608 - val_accuracy: 0.9932\n",
      "Epoch 48/80\n",
      "339/339 [==============================] - 9s 27ms/step - loss: 0.0416 - accuracy: 0.9811 - val_loss: 0.0701 - val_accuracy: 0.9885\n",
      "Epoch 49/80\n",
      "339/339 [==============================] - 9s 27ms/step - loss: 0.0509 - accuracy: 0.9750 - val_loss: 0.0897 - val_accuracy: 0.9824\n",
      "Epoch 50/80\n",
      "339/339 [==============================] - 9s 27ms/step - loss: 0.0404 - accuracy: 0.9801 - val_loss: 0.0640 - val_accuracy: 0.9837\n",
      "Epoch 51/80\n",
      "339/339 [==============================] - 9s 27ms/step - loss: 0.0419 - accuracy: 0.9812 - val_loss: 0.0771 - val_accuracy: 0.9898\n",
      "Epoch 52/80\n",
      "339/339 [==============================] - 9s 27ms/step - loss: 0.0443 - accuracy: 0.9803 - val_loss: 0.0607 - val_accuracy: 0.9864\n",
      "Epoch 53/80\n",
      "339/339 [==============================] - 9s 27ms/step - loss: 0.0423 - accuracy: 0.9839 - val_loss: 0.0677 - val_accuracy: 0.9851\n",
      "Epoch 54/80\n",
      "339/339 [==============================] - 9s 27ms/step - loss: 0.0374 - accuracy: 0.9854 - val_loss: 0.0752 - val_accuracy: 0.9817\n",
      "Epoch 55/80\n",
      "339/339 [==============================] - 9s 27ms/step - loss: 0.0399 - accuracy: 0.9831 - val_loss: 0.0770 - val_accuracy: 0.9864\n",
      "Epoch 56/80\n",
      "339/339 [==============================] - 9s 27ms/step - loss: 0.0440 - accuracy: 0.9804 - val_loss: 0.0601 - val_accuracy: 0.9817\n",
      "Epoch 57/80\n",
      "339/339 [==============================] - 9s 27ms/step - loss: 0.0380 - accuracy: 0.9791 - val_loss: 0.0705 - val_accuracy: 0.9851\n"
     ]
    },
    {
     "name": "stdout",
     "output_type": "stream",
     "text": [
      "Epoch 58/80\n",
      "339/339 [==============================] - 9s 27ms/step - loss: 0.0335 - accuracy: 0.9815 - val_loss: 0.1013 - val_accuracy: 0.9817\n",
      "Epoch 59/80\n",
      "339/339 [==============================] - 9s 27ms/step - loss: 0.0448 - accuracy: 0.9750 - val_loss: 0.0657 - val_accuracy: 0.9858\n",
      "Epoch 60/80\n",
      "339/339 [==============================] - 9s 27ms/step - loss: 0.0316 - accuracy: 0.9813 - val_loss: 0.0818 - val_accuracy: 0.9878\n",
      "Epoch 61/80\n",
      "339/339 [==============================] - 9s 27ms/step - loss: 0.0285 - accuracy: 0.9826 - val_loss: 0.0767 - val_accuracy: 0.9885\n",
      "Epoch 62/80\n",
      "339/339 [==============================] - 9s 27ms/step - loss: 0.0408 - accuracy: 0.9804 - val_loss: 0.0959 - val_accuracy: 0.9783\n",
      "Epoch 63/80\n",
      "339/339 [==============================] - 9s 27ms/step - loss: 0.0285 - accuracy: 0.9860 - val_loss: 0.0983 - val_accuracy: 0.9871\n",
      "Epoch 64/80\n",
      "339/339 [==============================] - 9s 27ms/step - loss: 0.0407 - accuracy: 0.9806 - val_loss: 0.0559 - val_accuracy: 0.9770\n",
      "Epoch 65/80\n",
      "339/339 [==============================] - 9s 27ms/step - loss: 0.0354 - accuracy: 0.9834 - val_loss: 0.0744 - val_accuracy: 0.9837\n",
      "Epoch 66/80\n",
      "339/339 [==============================] - 9s 27ms/step - loss: 0.0334 - accuracy: 0.9864 - val_loss: 0.0755 - val_accuracy: 0.9810\n",
      "Epoch 67/80\n",
      "339/339 [==============================] - 9s 27ms/step - loss: 0.0319 - accuracy: 0.9835 - val_loss: 0.0855 - val_accuracy: 0.9885\n",
      "Epoch 68/80\n",
      "339/339 [==============================] - 9s 27ms/step - loss: 0.0394 - accuracy: 0.9812 - val_loss: 0.0771 - val_accuracy: 0.9878\n",
      "Epoch 69/80\n",
      "339/339 [==============================] - 9s 27ms/step - loss: 0.0254 - accuracy: 0.9894 - val_loss: 0.0797 - val_accuracy: 0.9898\n",
      "Epoch 70/80\n",
      "339/339 [==============================] - 9s 27ms/step - loss: 0.0316 - accuracy: 0.9864 - val_loss: 0.0733 - val_accuracy: 0.9864\n",
      "Epoch 71/80\n",
      "339/339 [==============================] - 9s 27ms/step - loss: 0.0296 - accuracy: 0.9882 - val_loss: 0.0895 - val_accuracy: 0.9905\n",
      "Epoch 72/80\n",
      "339/339 [==============================] - 9s 27ms/step - loss: 0.0406 - accuracy: 0.9850 - val_loss: 0.0646 - val_accuracy: 0.9932\n",
      "Epoch 73/80\n",
      "339/339 [==============================] - 9s 27ms/step - loss: 0.0368 - accuracy: 0.9856 - val_loss: 0.0672 - val_accuracy: 0.9885\n",
      "Epoch 74/80\n",
      "339/339 [==============================] - 9s 27ms/step - loss: 0.0303 - accuracy: 0.9903 - val_loss: 0.0754 - val_accuracy: 0.9912\n",
      "Epoch 75/80\n",
      "339/339 [==============================] - 9s 27ms/step - loss: 0.0226 - accuracy: 0.9890 - val_loss: 0.0637 - val_accuracy: 0.9898\n",
      "Epoch 76/80\n",
      "339/339 [==============================] - 9s 27ms/step - loss: 0.0318 - accuracy: 0.9879 - val_loss: 0.0704 - val_accuracy: 0.9912\n",
      "Epoch 77/80\n",
      "339/339 [==============================] - 9s 27ms/step - loss: 0.0232 - accuracy: 0.9919 - val_loss: 0.0771 - val_accuracy: 0.9912\n",
      "Epoch 78/80\n",
      "339/339 [==============================] - 9s 27ms/step - loss: 0.0246 - accuracy: 0.9910 - val_loss: 0.0785 - val_accuracy: 0.9905\n",
      "Epoch 79/80\n",
      "339/339 [==============================] - 9s 27ms/step - loss: 0.0255 - accuracy: 0.9906 - val_loss: 0.1293 - val_accuracy: 0.9892\n",
      "Epoch 80/80\n",
      "339/339 [==============================] - 9s 27ms/step - loss: 0.0247 - accuracy: 0.9917 - val_loss: 0.1002 - val_accuracy: 0.9925\n",
      "time:  730.7790021896362\n"
     ]
    }
   ],
   "source": [
    "with tf.device('/GPU:0'):\n",
    "    from keras.callbacks import EarlyStopping\n",
    "    es=EarlyStopping(monitor='val_loss',mode='min',verbose=1,patience=40)\n",
    "\n",
    "    start_time= time.time()\n",
    "    history=model.fit(X_train, y_train, epochs= 80, validation_data= (X_val, y_val), class_weight=class_weight)\n",
    "    end_time= time.time()\n",
    "    print(\"time: \", end_time- start_time)"
   ]
  },
  {
   "cell_type": "code",
   "execution_count": 21,
   "id": "eab5a538",
   "metadata": {},
   "outputs": [
    {
     "name": "stderr",
     "output_type": "stream",
     "text": [
      "WARNING:absl:Found untraced functions such as _jit_compiled_convolution_op, _jit_compiled_convolution_op while saving (showing 2 of 2). These functions will not be directly callable after loading.\n"
     ]
    },
    {
     "name": "stdout",
     "output_type": "stream",
     "text": [
      "INFO:tensorflow:Assets written to: ./model/learning_model\\assets\n"
     ]
    },
    {
     "name": "stderr",
     "output_type": "stream",
     "text": [
      "INFO:tensorflow:Assets written to: ./model/learning_model\\assets\n"
     ]
    }
   ],
   "source": [
    "model.save(\"./model/learning_model\")"
   ]
  },
  {
   "cell_type": "code",
   "execution_count": 22,
   "id": "8fb90483",
   "metadata": {},
   "outputs": [],
   "source": [
    "import pandas as pd\n",
    "import matplotlib.pyplot as plt"
   ]
  },
  {
   "cell_type": "code",
   "execution_count": 23,
   "id": "94c209cd",
   "metadata": {},
   "outputs": [
    {
     "data": {
      "image/png": "[encoded data removed]",
      "text/plain": [
       "<Figure size 576x360 with 1 Axes>"
      ]
     },
     "metadata": {
      "needs_background": "light"
     },
     "output_type": "display_data"
    }
   ],
   "source": [
    "pd.DataFrame(history.history).plot(figsize= (8, 5))\n",
    "plt.grid(True)\n",
    "plt.gca().set_ylim(0, 1)\n",
    "plt.show()\n"
   ]
  },
  {
   "cell_type": "code",
   "execution_count": 24,
   "id": "e2e88e1e",
   "metadata": {},
   "outputs": [
    {
     "name": "stdout",
     "output_type": "stream",
     "text": [
      "83/83 [==============================] - 1s 10ms/step\n"
     ]
    },
    {
     "data": {
      "text/plain": [
       "array([1, 1, 1, ..., 1, 1, 1], dtype=int64)"
      ]
     },
     "execution_count": 24,
     "metadata": {},
     "output_type": "execute_result"
    }
   ],
   "source": [
    "y_pred=np.argmax(model.predict(X_test), axis=-1)\n",
    "y_pred"
   ]
  },
  {
   "cell_type": "code",
   "execution_count": 25,
   "id": "966c86d3",
   "metadata": {},
   "outputs": [
    {
     "data": {
      "text/plain": [
       "array([1, 1, 1, ..., 1, 1, 1])"
      ]
     },
     "execution_count": 25,
     "metadata": {},
     "output_type": "execute_result"
    }
   ],
   "source": [
    "y_test"
   ]
  },
  {
   "cell_type": "code",
   "execution_count": 26,
   "id": "d46b5fb5",
   "metadata": {},
   "outputs": [
    {
     "name": "stdout",
     "output_type": "stream",
     "text": [
      "accuracy:  0.9916571861964354\n"
     ]
    }
   ],
   "source": [
    "accuracy= 0\n",
    "\n",
    "for i in range(len(y_test)):\n",
    "    if(y_test[i]== y_pred[i]).all():\n",
    "        accuracy+= 1\n",
    "        \n",
    "print(\"accuracy: \", accuracy/len(y_test))"
   ]
  },
  {
   "cell_type": "code",
   "execution_count": null,
   "id": "a32f726b",
   "metadata": {},
   "outputs": [],
   "source": []
  },
  {
   "cell_type": "code",
   "execution_count": null,
   "id": "4a2c51bc",
   "metadata": {},
   "outputs": [],
   "source": []
  }
 ],
 "metadata": {
  "kernelspec": {
   "display_name": "Python 3 (ipykernel)",
   "language": "python",
   "name": "python3"
  },
  "language_info": {
   "codemirror_mode": {
    "name": "ipython",
    "version": 3
   },
   "file_extension": ".py",
   "mimetype": "text/x-python",
   "name": "python",
   "nbconvert_exporter": "python",
   "pygments_lexer": "ipython3",
   "version": "3.9.12"
  }
 },
 "nbformat": 4,
 "nbformat_minor": 5
}
